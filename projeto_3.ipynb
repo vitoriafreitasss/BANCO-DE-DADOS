{
 "cells": [
  {
   "cell_type": "markdown",
   "id": "1ba2259c",
   "metadata": {},
   "source": [
    "# Projeto 3: Controle de Chaves 🔑 \n",
    "---\n",
    "## O Cenário 👨‍💼\n",
    "Você acabou de ser contratado por uma pequena empresa. O controle de quem está com cada chave das salas ainda é feito em um bloco de notas.\n",
    "\n",
    "Sua primeira tarefa é criar um script Python simples que resolva isso, utilizando SQLite.\n",
    "\n",
    "Seu chefe pediu o seguinte:\n",
    "\n",
    "    \"Crie um programa que guarde o nome do responsável e a sala correspondente. Por enquanto, só cadastre a Ana da 'Recepção', o Bruno do 'Financeiro' e a Carla do 'Depósito'. Depois, o programa precisa me dizer quem está com a chave do 'Depósito'.\""
   ]
  },
  {
   "cell_type": "code",
   "execution_count": null,
   "id": "560ad3bb",
   "metadata": {},
   "outputs": [],
   "source": [
    "# Seu código aqui:\n",
    "print('Oi')"
   ]
  }
 ],
 "metadata": {
  "kernelspec": {
   "display_name": ".venv",
   "language": "python",
   "name": "python3"
  },
  "language_info": {
   "name": "python",
   "version": "3.13.3"
  }
 },
 "nbformat": 4,
 "nbformat_minor": 5
}
